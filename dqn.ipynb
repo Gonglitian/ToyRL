{
 "cells": [
  {
   "cell_type": "code",
   "execution_count": null,
   "metadata": {},
   "outputs": [],
   "source": [
    "from agent import DQNAgent\n",
    "from RobotEnv import RobotEnv\n",
    "from model import MLP\n",
    "def main():\n",
    "    env = RobotEnv()\n",
    "    agent = DQNAgent(env, model=MLP())\n",
    "    agent.train()"
   ]
  },
  {
   "cell_type": "code",
   "execution_count": null,
   "metadata": {},
   "outputs": [],
   "source": []
  }
 ],
 "metadata": {
  "language_info": {
   "name": "python"
  }
 },
 "nbformat": 4,
 "nbformat_minor": 2
}
