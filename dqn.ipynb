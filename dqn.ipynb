{
 "cells": [
  {
   "cell_type": "code",
   "execution_count": null,
   "metadata": {},
   "outputs": [],
   "source": [
    "from agent import DQNAgent\n",
    "from robot_env import RobotEnv\n",
    "from model import MLP\n",
    "from config import DQNConfig\n",
    "from object import *\n",
    "env = RobotEnv()\n",
    "env.add_objects(Robot(\"robot\",BLUE))\n",
    "while True:\n",
    "    env.render()\n",
    "# agent = DQNAgent(env, model=MLP(),DQNConfig())\n",
    "# agent.train()"
   ]
  },
  {
   "cell_type": "code",
   "execution_count": null,
   "metadata": {},
   "outputs": [],
   "source": []
  }
 ],
 "metadata": {
  "language_info": {
   "name": "python"
  }
 },
 "nbformat": 4,
 "nbformat_minor": 2
}
