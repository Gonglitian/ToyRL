{
 "cells": [
  {
   "cell_type": "code",
   "execution_count": 40,
   "metadata": {},
   "outputs": [
    {
     "name": "stdout",
     "output_type": "stream",
     "text": [
      "The autoreload extension is already loaded. To reload it, use:\n",
      "  %reload_ext autoreload\n"
     ]
    }
   ],
   "source": [
    "%load_ext autoreload\n",
    "%autoreload 2"
   ]
  },
  {
   "cell_type": "code",
   "execution_count": 47,
   "metadata": {},
   "outputs": [
    {
     "ename": "error",
     "evalue": "video system not initialized",
     "output_type": "error",
     "traceback": [
      "\u001b[1;31m---------------------------------------------------------------------------\u001b[0m",
      "\u001b[1;31merror\u001b[0m                                     Traceback (most recent call last)",
      "\u001b[1;32me:\\2024Spring\\ToyRL\\dqn.ipynb 单元格 2\u001b[0m line \u001b[0;36m1\n\u001b[0;32m      <a href='vscode-notebook-cell:/e%3A/2024Spring/ToyRL/dqn.ipynb#W0sZmlsZQ%3D%3D?line=7'>8</a>\u001b[0m env \u001b[39m=\u001b[39m RobotEnv((\u001b[39m400\u001b[39m,\u001b[39m400\u001b[39m))\n\u001b[0;32m      <a href='vscode-notebook-cell:/e%3A/2024Spring/ToyRL/dqn.ipynb#W0sZmlsZQ%3D%3D?line=8'>9</a>\u001b[0m \u001b[39mwhile\u001b[39;00m \u001b[39mTrue\u001b[39;00m:\n\u001b[1;32m---> <a href='vscode-notebook-cell:/e%3A/2024Spring/ToyRL/dqn.ipynb#W0sZmlsZQ%3D%3D?line=9'>10</a>\u001b[0m     env\u001b[39m.\u001b[39;49mstep(np\u001b[39m.\u001b[39;49mrandom\u001b[39m.\u001b[39;49mrandint(\u001b[39m0\u001b[39;49m, \u001b[39m4\u001b[39;49m))\n\u001b[0;32m     <a href='vscode-notebook-cell:/e%3A/2024Spring/ToyRL/dqn.ipynb#W0sZmlsZQ%3D%3D?line=10'>11</a>\u001b[0m     env\u001b[39m.\u001b[39mrender()\n\u001b[0;32m     <a href='vscode-notebook-cell:/e%3A/2024Spring/ToyRL/dqn.ipynb#W0sZmlsZQ%3D%3D?line=11'>12</a>\u001b[0m \u001b[39m# agent = DQNAgent(env, model=MLP(),DQNConfig())\u001b[39;00m\n\u001b[0;32m     <a href='vscode-notebook-cell:/e%3A/2024Spring/ToyRL/dqn.ipynb#W0sZmlsZQ%3D%3D?line=12'>13</a>\u001b[0m \u001b[39m# agent.train()\u001b[39;00m\n",
      "File \u001b[1;32me:\\2024Spring\\ToyRL\\robot_env.py:34\u001b[0m, in \u001b[0;36mRobotEnv.step\u001b[1;34m(self, action)\u001b[0m\n\u001b[0;32m     33\u001b[0m \u001b[39mdef\u001b[39;00m \u001b[39mstep\u001b[39m(\u001b[39mself\u001b[39m, action):\n\u001b[1;32m---> 34\u001b[0m     \u001b[39mself\u001b[39;49m\u001b[39m.\u001b[39;49mhandle_event()\n\u001b[0;32m     35\u001b[0m     \u001b[39mself\u001b[39m\u001b[39m.\u001b[39maction_parser(action)\n\u001b[0;32m     36\u001b[0m     \u001b[39mfor\u001b[39;00m obj \u001b[39min\u001b[39;00m \u001b[39mself\u001b[39m\u001b[39m.\u001b[39mobj_dict\u001b[39m.\u001b[39mvalues():\n",
      "File \u001b[1;32me:\\2024Spring\\ToyRL\\robot_env.py:60\u001b[0m, in \u001b[0;36mRobotEnv.handle_event\u001b[1;34m(self)\u001b[0m\n\u001b[0;32m     58\u001b[0m \u001b[39mdef\u001b[39;00m \u001b[39mhandle_event\u001b[39m(\u001b[39mself\u001b[39m):\n\u001b[0;32m     59\u001b[0m     \u001b[39m# 处理外部输入\u001b[39;00m\n\u001b[1;32m---> 60\u001b[0m     keys \u001b[39m=\u001b[39m pygame\u001b[39m.\u001b[39;49mkey\u001b[39m.\u001b[39;49mget_pressed()\n\u001b[0;32m     61\u001b[0m     \u001b[39mif\u001b[39;00m keys[pygame\u001b[39m.\u001b[39mK_1]:\n\u001b[0;32m     62\u001b[0m         \u001b[39m# 创建一个新的障碍物\u001b[39;00m\n\u001b[0;32m     63\u001b[0m         name \u001b[39m=\u001b[39m \u001b[39mself\u001b[39m\u001b[39m.\u001b[39minfer_name(\u001b[39m'\u001b[39m\u001b[39mobstacle\u001b[39m\u001b[39m'\u001b[39m)\n",
      "\u001b[1;31merror\u001b[0m: video system not initialized"
     ]
    }
   ],
   "source": [
    "# from agent import DQNAgent\n",
    "from robot_env import RobotEnv\n",
    "import numpy as np\n",
    "# from model import MLP\n",
    "# from config import DQNConfig\n",
    "# from object import *\n",
    "\n",
    "env = RobotEnv((400,400))\n",
    "while True:\n",
    "    env.step(np.random.randint(0, 4))\n",
    "    env.render()\n",
    "# agent = DQNAgent(env, model=MLP(),DQNConfig())\n",
    "# agent.train()"
   ]
  },
  {
   "cell_type": "code",
   "execution_count": null,
   "metadata": {},
   "outputs": [],
   "source": []
  }
 ],
 "metadata": {
  "kernelspec": {
   "display_name": "RL",
   "language": "python",
   "name": "python3"
  },
  "language_info": {
   "codemirror_mode": {
    "name": "ipython",
    "version": 3
   },
   "file_extension": ".py",
   "mimetype": "text/x-python",
   "name": "python",
   "nbconvert_exporter": "python",
   "pygments_lexer": "ipython3",
   "version": "3.11.8"
  }
 },
 "nbformat": 4,
 "nbformat_minor": 2
}
